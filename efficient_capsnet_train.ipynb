{
 "cells": [
  {
   "cell_type": "markdown",
   "metadata": {},
   "source": [
    "# Efficient-CapsNet Model Train\n",
    "\n",
    "In this notebook we provide a simple interface to train Efficient-CapsNet on the three dataset discussed in \"Efficient-CapsNet: Capsule Network with Self-Attention Routing\":\n",
    "\n",
    "- MNIST (MNIST)\n",
    "- smallNORB (SMALLNORB)\n",
    "- Multi-MNIST (MULTIMNIST)\n",
    "\n",
    "The hyperparameters have been only slightly investigated. So, there's a lot of room for improvements. Good luck!\n",
    "\n",
    "**NB**: remember to modify the \"config.json\" file with the appropriate parameters."
   ]
  },
  {
   "cell_type": "code",
   "execution_count": 1,
   "metadata": {
    "ExecuteTime": {
     "end_time": "2021-01-28T14:17:38.152068Z",
     "start_time": "2021-01-28T14:17:38.145241Z"
    }
   },
   "outputs": [],
   "source": [
    "%load_ext autoreload\n",
    "%autoreload 2"
   ]
  },
  {
   "cell_type": "code",
   "execution_count": 2,
   "metadata": {
    "ExecuteTime": {
     "end_time": "2021-01-28T14:17:39.436665Z",
     "start_time": "2021-01-28T14:17:38.152986Z"
    }
   },
   "outputs": [
    {
     "name": "stderr",
     "output_type": "stream",
     "text": [
      "c:\\Users\\20203080\\Anaconda3\\envs\\8p361\\lib\\site-packages\\tensorflow_addons\\utils\\tfa_eol_msg.py:23: UserWarning: \n",
      "\n",
      "TensorFlow Addons (TFA) has ended development and introduction of new features.\n",
      "TFA has entered a minimal maintenance and release mode until a planned end of life in May 2024.\n",
      "Please modify downstream libraries to take dependencies from other repositories in our TensorFlow community (e.g. Keras, Keras-CV, and Keras-NLP). \n",
      "\n",
      "For more information see: https://github.com/tensorflow/addons/issues/2807 \n",
      "\n",
      "  warnings.warn(\n",
      "c:\\Users\\20203080\\Anaconda3\\envs\\8p361\\lib\\site-packages\\tensorflow_addons\\utils\\ensure_tf_install.py:53: UserWarning: Tensorflow Addons supports using Python ops for all Tensorflow versions above or equal to 2.11.0 and strictly below 2.14.0 (nightly versions are not supported). \n",
      " The versions of TensorFlow you are currently using is 2.10.0 and is not supported. \n",
      "Some things might work, some things might not.\n",
      "If you were to encounter a bug, do not file an issue.\n",
      "If you want to make sure you're using a tested and supported configuration, either change the TensorFlow version or the TensorFlow Addons's version. \n",
      "You can find the compatibility matrix in TensorFlow Addon's readme:\n",
      "https://github.com/tensorflow/addons\n",
      "  warnings.warn(\n"
     ]
    }
   ],
   "source": [
    "import tensorflow as tf\n",
    "from utils import Dataset, plotImages, plotWrongImages, plotHistory\n",
    "from models import EfficientCapsNet"
   ]
  },
  {
   "cell_type": "code",
   "execution_count": 3,
   "metadata": {
    "ExecuteTime": {
     "end_time": "2021-01-28T14:17:39.485046Z",
     "start_time": "2021-01-28T14:17:39.438120Z"
    }
   },
   "outputs": [
    {
     "name": "stdout",
     "output_type": "stream",
     "text": [
      "True\n",
      "WARNING:tensorflow:From C:\\Users\\20203080\\AppData\\Local\\Temp\\ipykernel_4384\\2760652131.py:3: is_gpu_available (from tensorflow.python.framework.test_util) is deprecated and will be removed in a future version.\n",
      "Instructions for updating:\n",
      "Use `tf.config.list_physical_devices('GPU')` instead.\n",
      "True\n"
     ]
    }
   ],
   "source": [
    "import tensorflow as tf\n",
    "print(tf.test.is_built_with_cuda())\n",
    "print(tf.test.is_gpu_available(cuda_only=False, min_cuda_compute_capability=None))\n",
    "gpus = tf.config.experimental.list_physical_devices('GPU')\n",
    "tf.config.experimental.set_visible_devices(gpus[0], 'GPU')\n",
    "tf.config.experimental.set_memory_growth(gpus[0], True)"
   ]
  },
  {
   "cell_type": "code",
   "execution_count": 4,
   "metadata": {
    "ExecuteTime": {
     "end_time": "2021-01-28T14:17:39.502857Z",
     "start_time": "2021-01-28T14:17:39.486169Z"
    }
   },
   "outputs": [],
   "source": [
    "# some parameters\n",
    "model_name = \"8P361\""
   ]
  },
  {
   "cell_type": "markdown",
   "metadata": {},
   "source": [
    "# 1.0 Import the Dataset"
   ]
  },
  {
   "cell_type": "code",
   "execution_count": 5,
   "metadata": {
    "ExecuteTime": {
     "end_time": "2021-01-28T14:17:39.898397Z",
     "start_time": "2021-01-28T14:17:39.503821Z"
    }
   },
   "outputs": [],
   "source": [
    "dataset = Dataset(model_name, config_path='config.json')"
   ]
  },
  {
   "cell_type": "markdown",
   "metadata": {},
   "source": [
    "## 1.1 Visualize imported dataset"
   ]
  },
  {
   "cell_type": "code",
   "execution_count": 6,
   "metadata": {
    "ExecuteTime": {
     "end_time": "2021-01-28T14:17:41.229443Z",
     "start_time": "2021-01-28T14:17:39.899261Z"
    }
   },
   "outputs": [],
   "source": [
    "n_images = 20 # number of images to be plotted\n",
    "#plotImages(dataset.X_test[:n_images,...,0], dataset.y_test[:n_images], n_images, dataset.class_names)"
   ]
  },
  {
   "cell_type": "markdown",
   "metadata": {},
   "source": [
    "# 2.0 Load the Model"
   ]
  },
  {
   "cell_type": "code",
   "execution_count": 7,
   "metadata": {
    "ExecuteTime": {
     "end_time": "2021-01-28T14:21:46.634945Z",
     "start_time": "2021-01-28T14:21:46.311296Z"
    },
    "scrolled": false
   },
   "outputs": [
    {
     "name": "stdout",
     "output_type": "stream",
     "text": [
      "Model: \"Efficient_CapsNet\"\n",
      "_________________________________________________________________\n",
      " Layer (type)                Output Shape              Param #   \n",
      "=================================================================\n",
      " input_4 (InputLayer)        [(None, 96, 96, 3)]       0         \n",
      "                                                                 \n",
      " conv2d (Conv2D)             (None, 45, 45, 32)        4736      \n",
      "                                                                 \n",
      " leaky_re_lu (LeakyReLU)     (None, 45, 45, 32)        0         \n",
      "                                                                 \n",
      " batch_normalization (BatchN  (None, 45, 45, 32)       128       \n",
      " ormalization)                                                   \n",
      "                                                                 \n",
      " conv2d_1 (Conv2D)           (None, 43, 43, 64)        18496     \n",
      "                                                                 \n",
      " leaky_re_lu_1 (LeakyReLU)   (None, 43, 43, 64)        0         \n",
      "                                                                 \n",
      " batch_normalization_1 (Batc  (None, 43, 43, 64)       256       \n",
      " hNormalization)                                                 \n",
      "                                                                 \n",
      " conv2d_2 (Conv2D)           (None, 41, 41, 64)        36928     \n",
      "                                                                 \n",
      " leaky_re_lu_2 (LeakyReLU)   (None, 41, 41, 64)        0         \n",
      "                                                                 \n",
      " batch_normalization_2 (Batc  (None, 41, 41, 64)       256       \n",
      " hNormalization)                                                 \n",
      "                                                                 \n",
      " conv2d_3 (Conv2D)           (None, 20, 20, 128)       73856     \n",
      "                                                                 \n",
      " leaky_re_lu_3 (LeakyReLU)   (None, 20, 20, 128)       0         \n",
      "                                                                 \n",
      " batch_normalization_3 (Batc  (None, 20, 20, 128)      512       \n",
      " hNormalization)                                                 \n",
      "                                                                 \n",
      " primary_caps (PrimaryCaps)  (None, 6, 6, 32, 8)       2654464   \n",
      "                                                                 \n",
      " digit_caps (DigitCaps)      (None, 2, 16)             294944    \n",
      "                                                                 \n",
      " length_capsnet_output (Leng  (None, 2)                0         \n",
      " th)                                                             \n",
      "                                                                 \n",
      "=================================================================\n",
      "Total params: 3,084,576\n",
      "Trainable params: 3,084,000\n",
      "Non-trainable params: 576\n",
      "_________________________________________________________________\n",
      "\n",
      "\n",
      "\n",
      "Model: \"Generator\"\n",
      "_________________________________________________________________\n",
      " Layer (type)                Output Shape              Param #   \n",
      "=================================================================\n",
      " input_5 (InputLayer)        [(None, 32)]              0         \n",
      "                                                                 \n",
      " dense (Dense)               (None, 512)               16896     \n",
      "                                                                 \n",
      " dense_1 (Dense)             (None, 1024)              525312    \n",
      "                                                                 \n",
      " dense_2 (Dense)             (None, 27648)             28339200  \n",
      "                                                                 \n",
      " out_generator (Reshape)     (None, 96, 96, 3)         0         \n",
      "                                                                 \n",
      "=================================================================\n",
      "Total params: 28,881,408\n",
      "Trainable params: 28,881,408\n",
      "Non-trainable params: 0\n",
      "_________________________________________________________________\n",
      "\n",
      "\n",
      "\n"
     ]
    }
   ],
   "source": [
    "model_train = EfficientCapsNet(model_name, mode='train', verbose=True)"
   ]
  },
  {
   "cell_type": "markdown",
   "metadata": {
    "ExecuteTime": {
     "end_time": "2021-01-25T17:38:06.189031Z",
     "start_time": "2021-01-25T17:38:05.460415Z"
    }
   },
   "source": [
    "# 3.0 Train the Model"
   ]
  },
  {
   "cell_type": "code",
   "execution_count": 8,
   "metadata": {
    "ExecuteTime": {
     "end_time": "2021-01-28T14:22:02.087316Z",
     "start_time": "2021-01-28T14:22:02.031863Z"
    }
   },
   "outputs": [],
   "source": [
    "#dataset_train, dataset_val = dataset.get_tf_data() "
   ]
  },
  {
   "cell_type": "code",
   "execution_count": 9,
   "metadata": {
    "ExecuteTime": {
     "end_time": "2021-01-28T14:25:09.510250Z",
     "start_time": "2021-01-28T14:24:56.018640Z"
    },
    "scrolled": true
   },
   "outputs": [
    {
     "name": "stdout",
     "output_type": "stream",
     "text": [
      "Found 144000 files belonging to 2 classes.\n",
      "Found 16000 files belonging to 2 classes.\n",
      "------------------------------8P361 train------------------------------\n",
      "Epoch 1/5\n",
      "9000/9000 [==============================] - ETA: 0s - loss: 0.5669 - Efficient_CapsNet_loss: 0.1497 - Generator_loss: 1.0642 - Efficient_CapsNet_accuracy: 0.7717\n",
      "Epoch 1: val_Efficient_CapsNet_accuracy improved from -inf to 0.50000, saving model to bin\\efficient_capsnet8P361_new_train.h5\n",
      "9000/9000 [==============================] - 853s 94ms/step - loss: 0.5669 - Efficient_CapsNet_loss: 0.1497 - Generator_loss: 1.0642 - Efficient_CapsNet_accuracy: 0.7717 - val_loss: 0.3902 - val_Efficient_CapsNet_loss: 0.2653 - val_Generator_loss: 0.3187 - val_Efficient_CapsNet_accuracy: 0.5000 - lr: 1.0000e-04\n",
      "Epoch 2/5\n",
      "9000/9000 [==============================] - ETA: 0s - loss: 0.3913 - Efficient_CapsNet_loss: 0.1236 - Generator_loss: 0.6829 - Efficient_CapsNet_accuracy: 0.8089\n",
      "Epoch 2: val_Efficient_CapsNet_accuracy did not improve from 0.50000\n",
      "9000/9000 [==============================] - 759s 84ms/step - loss: 0.3913 - Efficient_CapsNet_loss: 0.1236 - Generator_loss: 0.6829 - Efficient_CapsNet_accuracy: 0.8089 - val_loss: 0.5010 - val_Efficient_CapsNet_loss: 0.3810 - val_Generator_loss: 0.3063 - val_Efficient_CapsNet_accuracy: 0.5000 - lr: 9.7000e-05\n",
      "Epoch 3/5\n",
      " 141/9000 [..............................] - ETA: 11:01 - loss: 0.4135 - Efficient_CapsNet_loss: 0.1210 - Generator_loss: 0.7464 - Efficient_CapsNet_accuracy: 0.8094"
     ]
    }
   ],
   "source": [
    "history = model_train.train(dataset, initial_epoch=0)"
   ]
  },
  {
   "cell_type": "code",
   "execution_count": null,
   "metadata": {},
   "outputs": [
    {
     "data": {
      "image/png": "[encoded data removed]",
      "text/plain": [
       "<Figure size 800x500 with 1 Axes>"
      ]
     },
     "metadata": {},
     "output_type": "display_data"
    }
   ],
   "source": [
    "plotHistory(history)"
   ]
  }
 ],
 "metadata": {
  "kernelspec": {
   "display_name": "Python 3",
   "language": "python",
   "name": "python3"
  },
  "language_info": {
   "codemirror_mode": {
    "name": "ipython",
    "version": 3
   },
   "file_extension": ".py",
   "mimetype": "text/x-python",
   "name": "python",
   "nbconvert_exporter": "python",
   "pygments_lexer": "ipython3",
   "version": "3.8.18"
  },
  "toc": {
   "base_numbering": 1,
   "nav_menu": {},
   "number_sections": false,
   "sideBar": true,
   "skip_h1_title": false,
   "title_cell": "Table of Contents",
   "title_sidebar": "Contents",
   "toc_cell": false,
   "toc_position": {},
   "toc_section_display": true,
   "toc_window_display": false
  },
  "varInspector": {
   "cols": {
    "lenName": 16,
    "lenType": 16,
    "lenVar": 40
   },
   "kernels_config": {
    "python": {
     "delete_cmd_postfix": "",
     "delete_cmd_prefix": "del ",
     "library": "var_list.py",
     "varRefreshCmd": "print(var_dic_list())"
    },
    "r": {
     "delete_cmd_postfix": ") ",
     "delete_cmd_prefix": "rm(",
     "library": "var_list.r",
     "varRefreshCmd": "cat(var_dic_list()) "
    }
   },
   "types_to_exclude": [
    "module",
    "function",
    "builtin_function_or_method",
    "instance",
    "_Feature"
   ],
   "window_display": false
  }
 },
 "nbformat": 4,
 "nbformat_minor": 4
}
