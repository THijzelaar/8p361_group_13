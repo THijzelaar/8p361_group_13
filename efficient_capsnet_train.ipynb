{
 "cells": [
  {
   "cell_type": "markdown",
   "metadata": {},
   "source": [
    "# Efficient-CapsNet Model Train\n",
    "\n",
    "In this notebook we provide a simple interface to train Efficient-CapsNet on the three dataset discussed in \"Efficient-CapsNet: Capsule Network with Self-Attention Routing\":\n",
    "\n",
    "- MNIST (MNIST)\n",
    "- smallNORB (SMALLNORB)\n",
    "- Multi-MNIST (MULTIMNIST)\n",
    "\n",
    "The hyperparameters have been only slightly investigated. So, there's a lot of room for improvements. Good luck!\n",
    "\n",
    "**NB**: remember to modify the \"config.json\" file with the appropriate parameters."
   ]
  },
  {
   "cell_type": "code",
   "execution_count": 19,
   "metadata": {
    "ExecuteTime": {
     "end_time": "2021-01-28T14:17:38.152068Z",
     "start_time": "2021-01-28T14:17:38.145241Z"
    }
   },
   "outputs": [
    {
     "name": "stdout",
     "output_type": "stream",
     "text": [
      "The autoreload extension is already loaded. To reload it, use:\n",
      "  %reload_ext autoreload\n"
     ]
    }
   ],
   "source": [
    "%load_ext autoreload\n",
    "%autoreload 2"
   ]
  },
  {
   "cell_type": "code",
   "execution_count": 20,
   "metadata": {
    "ExecuteTime": {
     "end_time": "2021-01-28T14:17:39.436665Z",
     "start_time": "2021-01-28T14:17:38.152986Z"
    }
   },
   "outputs": [],
   "source": [
    "import tensorflow as tf\n",
    "from utils import Dataset, plotImages, plotWrongImages, plotHistory\n",
    "from models import EfficientCapsNet"
   ]
  },
  {
   "cell_type": "code",
   "execution_count": 21,
   "metadata": {
    "ExecuteTime": {
     "end_time": "2021-01-28T14:17:39.485046Z",
     "start_time": "2021-01-28T14:17:39.438120Z"
    }
   },
   "outputs": [],
   "source": [
    "#gpus = tf.config.experimental.list_physical_devices('GPU')\n",
    "#tf.config.experimental.set_visible_devices(gpus[0], 'GPU')\n",
    "#tf.config.experimental.set_memory_growth(gpus[0], True)"
   ]
  },
  {
   "cell_type": "code",
   "execution_count": 22,
   "metadata": {
    "ExecuteTime": {
     "end_time": "2021-01-28T14:17:39.502857Z",
     "start_time": "2021-01-28T14:17:39.486169Z"
    }
   },
   "outputs": [],
   "source": [
    "# some parameters\n",
    "model_name = \"8P361\""
   ]
  },
  {
   "cell_type": "markdown",
   "metadata": {},
   "source": [
    "# 1.0 Import the Dataset"
   ]
  },
  {
   "cell_type": "code",
   "execution_count": 23,
   "metadata": {
    "ExecuteTime": {
     "end_time": "2021-01-28T14:17:39.898397Z",
     "start_time": "2021-01-28T14:17:39.503821Z"
    }
   },
   "outputs": [],
   "source": [
    "dataset = Dataset(model_name, config_path='config.json')"
   ]
  },
  {
   "cell_type": "markdown",
   "metadata": {},
   "source": [
    "## 1.1 Visualize imported dataset"
   ]
  },
  {
   "cell_type": "code",
   "execution_count": 24,
   "metadata": {
    "ExecuteTime": {
     "end_time": "2021-01-28T14:17:41.229443Z",
     "start_time": "2021-01-28T14:17:39.899261Z"
    }
   },
   "outputs": [],
   "source": [
    "n_images = 20 # number of images to be plotted\n",
    "#plotImages(dataset.X_test[:n_images,...,0], dataset.y_test[:n_images], n_images, dataset.class_names)"
   ]
  },
  {
   "cell_type": "markdown",
   "metadata": {},
   "source": [
    "# 2.0 Load the Model"
   ]
  },
  {
   "cell_type": "code",
   "execution_count": 25,
   "metadata": {
    "ExecuteTime": {
     "end_time": "2021-01-28T14:21:46.634945Z",
     "start_time": "2021-01-28T14:21:46.311296Z"
    },
    "scrolled": false
   },
   "outputs": [
    {
     "name": "stdout",
     "output_type": "stream",
     "text": [
      "Model: \"Efficient_CapsNet\"\n",
      "_________________________________________________________________\n",
      " Layer (type)                Output Shape              Param #   \n",
      "=================================================================\n",
      " input_14 (InputLayer)       [(None, 96, 96, 3)]       0         \n",
      "                                                                 \n",
      " conv2d_8 (Conv2D)           (None, 45, 45, 32)        4736      \n",
      "                                                                 \n",
      " leaky_re_lu_4 (LeakyReLU)   (None, 45, 45, 32)        0         \n",
      "                                                                 \n",
      " batch_normalization_8 (Batc  (None, 45, 45, 32)       128       \n",
      " hNormalization)                                                 \n",
      "                                                                 \n",
      " conv2d_9 (Conv2D)           (None, 43, 43, 64)        18496     \n",
      "                                                                 \n",
      " leaky_re_lu_5 (LeakyReLU)   (None, 43, 43, 64)        0         \n",
      "                                                                 \n",
      " batch_normalization_9 (Batc  (None, 43, 43, 64)       256       \n",
      " hNormalization)                                                 \n",
      "                                                                 \n",
      " conv2d_10 (Conv2D)          (None, 41, 41, 64)        36928     \n",
      "                                                                 \n",
      " leaky_re_lu_6 (LeakyReLU)   (None, 41, 41, 64)        0         \n",
      "                                                                 \n",
      " batch_normalization_10 (Bat  (None, 41, 41, 64)       256       \n",
      " chNormalization)                                                \n",
      "                                                                 \n",
      " conv2d_11 (Conv2D)          (None, 20, 20, 128)       73856     \n",
      "                                                                 \n",
      " leaky_re_lu_7 (LeakyReLU)   (None, 20, 20, 128)       0         \n",
      "                                                                 \n",
      " batch_normalization_11 (Bat  (None, 20, 20, 128)      512       \n",
      " chNormalization)                                                \n",
      "                                                                 \n",
      " primary_caps_2 (PrimaryCaps  (None, 16, 8)            51328     \n",
      " )                                                               \n",
      "                                                                 \n",
      " fc_caps_2 (FCCaps)          (None, 2, 16)             4128      \n",
      "                                                                 \n",
      " length_capsnet_output (Leng  (None, 2)                0         \n",
      " th)                                                             \n",
      "                                                                 \n",
      "=================================================================\n",
      "Total params: 190,624\n",
      "Trainable params: 190,048\n",
      "Non-trainable params: 576\n",
      "_________________________________________________________________\n",
      "\n",
      "\n",
      "\n",
      "Model: \"Generator\"\n",
      "_________________________________________________________________\n",
      " Layer (type)                Output Shape              Param #   \n",
      "=================================================================\n",
      " input_15 (InputLayer)       [(None, 32)]              0         \n",
      "                                                                 \n",
      " dense_6 (Dense)             (None, 512)               16896     \n",
      "                                                                 \n",
      " dense_7 (Dense)             (None, 1024)              525312    \n",
      "                                                                 \n",
      " dense_8 (Dense)             (None, 27648)             28339200  \n",
      "                                                                 \n",
      " out_generator (Reshape)     (None, 96, 96, 3)         0         \n",
      "                                                                 \n",
      "=================================================================\n",
      "Total params: 28,881,408\n",
      "Trainable params: 28,881,408\n",
      "Non-trainable params: 0\n",
      "_________________________________________________________________\n",
      "\n",
      "\n",
      "\n"
     ]
    }
   ],
   "source": [
    "model_train = EfficientCapsNet(model_name, mode='train', verbose=True)"
   ]
  },
  {
   "cell_type": "markdown",
   "metadata": {
    "ExecuteTime": {
     "end_time": "2021-01-25T17:38:06.189031Z",
     "start_time": "2021-01-25T17:38:05.460415Z"
    }
   },
   "source": [
    "# 3.0 Train the Model"
   ]
  },
  {
   "cell_type": "code",
   "execution_count": 26,
   "metadata": {
    "ExecuteTime": {
     "end_time": "2021-01-28T14:22:02.087316Z",
     "start_time": "2021-01-28T14:22:02.031863Z"
    }
   },
   "outputs": [],
   "source": [
    "#dataset_train, dataset_val = dataset.get_tf_data() "
   ]
  },
  {
   "cell_type": "code",
   "execution_count": 27,
   "metadata": {
    "ExecuteTime": {
     "end_time": "2021-01-28T14:25:09.510250Z",
     "start_time": "2021-01-28T14:24:56.018640Z"
    },
    "scrolled": true
   },
   "outputs": [
    {
     "name": "stdout",
     "output_type": "stream",
     "text": [
      "Found 144000 files belonging to 2 classes.\n",
      "Found 16000 files belonging to 2 classes.\n",
      "------------------------------8P361 train------------------------------\n",
      "Epoch 1/150\n",
      "   9/9000 [..............................] - ETA: 4:28:03 - loss: 0.3757 - Efficient_CapsNet_loss: 0.3422 - Generator_loss: 0.0854 - Efficient_CapsNet_accuracy: 0.6111"
     ]
    }
   ],
   "source": [
    "history = model_train.train(dataset, initial_epoch=0)"
   ]
  },
  {
   "cell_type": "code",
   "execution_count": null,
   "metadata": {},
   "outputs": [],
   "source": [
    "plotHistory(history)"
   ]
  }
 ],
 "metadata": {
  "kernelspec": {
   "display_name": "Python 3",
   "language": "python",
   "name": "python3"
  },
  "language_info": {
   "codemirror_mode": {
    "name": "ipython",
    "version": 3
   },
   "file_extension": ".py",
   "mimetype": "text/x-python",
   "name": "python",
   "nbconvert_exporter": "python",
   "pygments_lexer": "ipython3",
   "version": "3.8.18"
  },
  "toc": {
   "base_numbering": 1,
   "nav_menu": {},
   "number_sections": false,
   "sideBar": true,
   "skip_h1_title": false,
   "title_cell": "Table of Contents",
   "title_sidebar": "Contents",
   "toc_cell": false,
   "toc_position": {},
   "toc_section_display": true,
   "toc_window_display": false
  },
  "varInspector": {
   "cols": {
    "lenName": 16,
    "lenType": 16,
    "lenVar": 40
   },
   "kernels_config": {
    "python": {
     "delete_cmd_postfix": "",
     "delete_cmd_prefix": "del ",
     "library": "var_list.py",
     "varRefreshCmd": "print(var_dic_list())"
    },
    "r": {
     "delete_cmd_postfix": ") ",
     "delete_cmd_prefix": "rm(",
     "library": "var_list.r",
     "varRefreshCmd": "cat(var_dic_list()) "
    }
   },
   "types_to_exclude": [
    "module",
    "function",
    "builtin_function_or_method",
    "instance",
    "_Feature"
   ],
   "window_display": false
  }
 },
 "nbformat": 4,
 "nbformat_minor": 4
}
