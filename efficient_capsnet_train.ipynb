{
 "cells": [
  {
   "cell_type": "markdown",
   "metadata": {},
   "source": [
    "# Efficient-CapsNet Model Train\n",
    "\n",
    "In this notebook a simple overview is provided to train the models. To change between the routings, change the model_name variable below beteen dynamic_routing or self_attention.\n",
    "\n",
    "\n",
    "**NB**: remember to modify the \"config.json\" file with the appropriate parameters."
   ]
  },
  {
   "cell_type": "code",
   "execution_count": 1,
   "metadata": {
    "ExecuteTime": {
     "end_time": "2021-01-28T14:17:38.152068Z",
     "start_time": "2021-01-28T14:17:38.145241Z"
    }
   },
   "outputs": [],
   "source": [
    "%load_ext autoreload\n",
    "%autoreload 2"
   ]
  },
  {
   "cell_type": "code",
   "execution_count": 2,
   "metadata": {
    "ExecuteTime": {
     "end_time": "2021-01-28T14:17:39.436665Z",
     "start_time": "2021-01-28T14:17:38.152986Z"
    }
   },
   "outputs": [],
   "source": [
    "import tensorflow as tf\n",
    "from utils import Dataset, plotImages, plotWrongImages, plotHistory\n",
    "from models import EfficientCapsNet"
   ]
  },
  {
   "cell_type": "code",
   "execution_count": 3,
   "metadata": {
    "ExecuteTime": {
     "end_time": "2021-01-28T14:17:39.485046Z",
     "start_time": "2021-01-28T14:17:39.438120Z"
    }
   },
   "outputs": [
    {
     "name": "stdout",
     "output_type": "stream",
     "text": [
      "True\n",
      "WARNING:tensorflow:From C:\\Users\\20203080\\AppData\\Local\\Temp\\ipykernel_17732\\253507145.py:3: is_gpu_available (from tensorflow.python.framework.test_util) is deprecated and will be removed in a future version.\n",
      "Instructions for updating:\n",
      "Use `tf.config.list_physical_devices('GPU')` instead.\n",
      "True\n",
      "[PhysicalDevice(name='/physical_device:GPU:0', device_type='GPU')] <module 'tensorflow._api.v2.version' from 'C:\\\\Users\\\\20203080\\\\AppData\\\\Roaming\\\\Python\\\\Python38\\\\site-packages\\\\tensorflow\\\\_api\\\\v2\\\\version\\\\__init__.py'>\n"
     ]
    }
   ],
   "source": [
    "import tensorflow as tf\n",
    "print(tf.test.is_built_with_cuda())\n",
    "print(tf.test.is_gpu_available(cuda_only=False, min_cuda_compute_capability=None))\n",
    "gpus = tf.config.experimental.list_physical_devices('GPU')\n",
    "print(gpus, tf.version)\n",
    "tf.config.experimental.set_visible_devices(gpus[0], 'GPU')\n",
    "tf.config.experimental.set_memory_growth(gpus[0], True)"
   ]
  },
  {
   "cell_type": "code",
   "execution_count": 4,
   "metadata": {
    "ExecuteTime": {
     "end_time": "2021-01-28T14:17:39.502857Z",
     "start_time": "2021-01-28T14:17:39.486169Z"
    }
   },
   "outputs": [],
   "source": [
    "# some parameters\n",
    "model_name = \"self_attention\""
   ]
  },
  {
   "cell_type": "markdown",
   "metadata": {},
   "source": [
    "# 1.0 Import the Dataset"
   ]
  },
  {
   "cell_type": "code",
   "execution_count": 5,
   "metadata": {
    "ExecuteTime": {
     "end_time": "2021-01-28T14:17:39.898397Z",
     "start_time": "2021-01-28T14:17:39.503821Z"
    }
   },
   "outputs": [],
   "source": [
    "dataset = Dataset(model_name, config_path='config.json')"
   ]
  },
  {
   "cell_type": "markdown",
   "metadata": {},
   "source": [
    "## 1.1 Visualize imported dataset"
   ]
  },
  {
   "cell_type": "code",
   "execution_count": 6,
   "metadata": {
    "ExecuteTime": {
     "end_time": "2021-01-28T14:17:41.229443Z",
     "start_time": "2021-01-28T14:17:39.899261Z"
    }
   },
   "outputs": [],
   "source": [
    "n_images = 20 # number of images to be plotted\n",
    "#plotImages(dataset.X_test[:n_images,...,0], dataset.y_test[:n_images], n_images, dataset.class_names)"
   ]
  },
  {
   "cell_type": "markdown",
   "metadata": {},
   "source": [
    "# 2.0 Load the Model"
   ]
  },
  {
   "cell_type": "code",
   "execution_count": 7,
   "metadata": {
    "ExecuteTime": {
     "end_time": "2021-01-28T14:21:46.634945Z",
     "start_time": "2021-01-28T14:21:46.311296Z"
    },
    "scrolled": false
   },
   "outputs": [
    {
     "name": "stdout",
     "output_type": "stream",
     "text": [
      "Model: \"Efficient_CapsNet\"\n",
      "_________________________________________________________________\n",
      " Layer (type)                Output Shape              Param #   \n",
      "=================================================================\n",
      " input_4 (InputLayer)        [(None, 96, 96, 3)]       0         \n",
      "                                                                 \n",
      " conv2d (Conv2D)             (None, 45, 45, 32)        4736      \n",
      "                                                                 \n",
      " leaky_re_lu (LeakyReLU)     (None, 45, 45, 32)        0         \n",
      "                                                                 \n",
      " batch_normalization (BatchN  (None, 45, 45, 32)       128       \n",
      " ormalization)                                                   \n",
      "                                                                 \n",
      " conv2d_1 (Conv2D)           (None, 43, 43, 64)        18496     \n",
      "                                                                 \n",
      " leaky_re_lu_1 (LeakyReLU)   (None, 43, 43, 64)        0         \n",
      "                                                                 \n",
      " batch_normalization_1 (Batc  (None, 43, 43, 64)       256       \n",
      " hNormalization)                                                 \n",
      "                                                                 \n",
      " conv2d_2 (Conv2D)           (None, 41, 41, 64)        36928     \n",
      "                                                                 \n",
      " leaky_re_lu_2 (LeakyReLU)   (None, 41, 41, 64)        0         \n",
      "                                                                 \n",
      " batch_normalization_2 (Batc  (None, 41, 41, 64)       256       \n",
      " hNormalization)                                                 \n",
      "                                                                 \n",
      " conv2d_3 (Conv2D)           (None, 20, 20, 128)       73856     \n",
      "                                                                 \n",
      " leaky_re_lu_3 (LeakyReLU)   (None, 20, 20, 128)       0         \n",
      "                                                                 \n",
      " batch_normalization_3 (Batc  (None, 20, 20, 128)      512       \n",
      " hNormalization)                                                 \n",
      "                                                                 \n",
      " primary_caps (PrimaryCaps)  (None, 16, 8)             51328     \n",
      "                                                                 \n",
      " fc_caps (FCCaps)            (None, 2, 16)             4128      \n",
      "                                                                 \n",
      " length_capsnet_output (Leng  (None, 2)                0         \n",
      " th)                                                             \n",
      "                                                                 \n",
      "=================================================================\n",
      "Total params: 190,624\n",
      "Trainable params: 190,048\n",
      "Non-trainable params: 576\n",
      "_________________________________________________________________\n",
      "\n",
      "\n",
      "\n",
      "Model: \"Generator\"\n",
      "_________________________________________________________________\n",
      " Layer (type)                Output Shape              Param #   \n",
      "=================================================================\n",
      " input_5 (InputLayer)        [(None, 32)]              0         \n",
      "                                                                 \n",
      " dense (Dense)               (None, 512)               16896     \n",
      "                                                                 \n",
      " dense_1 (Dense)             (None, 1024)              525312    \n",
      "                                                                 \n",
      " dense_2 (Dense)             (None, 27648)             28339200  \n",
      "                                                                 \n",
      " out_generator (Reshape)     (None, 96, 96, 3)         0         \n",
      "                                                                 \n",
      "=================================================================\n",
      "Total params: 28,881,408\n",
      "Trainable params: 28,881,408\n",
      "Non-trainable params: 0\n",
      "_________________________________________________________________\n",
      "\n",
      "\n",
      "\n"
     ]
    }
   ],
   "source": [
    "model_train = EfficientCapsNet(model_name, mode='train', verbose=True)"
   ]
  },
  {
   "cell_type": "markdown",
   "metadata": {
    "ExecuteTime": {
     "end_time": "2021-01-25T17:38:06.189031Z",
     "start_time": "2021-01-25T17:38:05.460415Z"
    }
   },
   "source": [
    "# 3.0 Train the Model"
   ]
  },
  {
   "cell_type": "code",
   "execution_count": 8,
   "metadata": {
    "ExecuteTime": {
     "end_time": "2021-01-28T14:25:09.510250Z",
     "start_time": "2021-01-28T14:24:56.018640Z"
    },
    "scrolled": true
   },
   "outputs": [
    {
     "name": "stdout",
     "output_type": "stream",
     "text": [
      "Found 144000 files belonging to 2 classes.\n",
      "Found 16000 files belonging to 2 classes.\n",
      "------------------------------self_attention train------------------------------\n",
      "Epoch 1/10\n",
      "4500/4500 [==============================] - ETA: 0s - loss: 0.5559 - Efficient_CapsNet_loss: 0.1420 - Generator_loss: 1.0558 - Efficient_CapsNet_accuracy: 0.7717\n",
      "Epoch 1: val_Efficient_CapsNet_accuracy improved from -inf to 0.68431, saving model to bin\\efficient_capsnetself_attention_new_train.h5\n",
      "4500/4500 [==============================] - 381s 83ms/step - loss: 0.5559 - Efficient_CapsNet_loss: 0.1420 - Generator_loss: 1.0558 - Efficient_CapsNet_accuracy: 0.7717 - val_loss: 0.3247 - val_Efficient_CapsNet_loss: 0.1884 - val_Generator_loss: 0.3476 - val_Efficient_CapsNet_accuracy: 0.6843 - lr: 1.0000e-04\n",
      "Epoch 2/10\n",
      "4500/4500 [==============================] - ETA: 0s - loss: 0.3826 - Efficient_CapsNet_loss: 0.1262 - Generator_loss: 0.6543 - Efficient_CapsNet_accuracy: 0.7991\n",
      "Epoch 2: val_Efficient_CapsNet_accuracy did not improve from 0.68431\n",
      "4500/4500 [==============================] - 414s 92ms/step - loss: 0.3826 - Efficient_CapsNet_loss: 0.1262 - Generator_loss: 0.6543 - Efficient_CapsNet_accuracy: 0.7991 - val_loss: 0.3496 - val_Efficient_CapsNet_loss: 0.2243 - val_Generator_loss: 0.3197 - val_Efficient_CapsNet_accuracy: 0.5419 - lr: 9.7000e-05\n",
      "Epoch 3/10\n",
      "4500/4500 [==============================] - ETA: 0s - loss: 0.3738 - Efficient_CapsNet_loss: 0.1174 - Generator_loss: 0.6541 - Efficient_CapsNet_accuracy: 0.8126\n",
      "Epoch 3: val_Efficient_CapsNet_accuracy did not improve from 0.68431\n",
      "4500/4500 [==============================] - 422s 94ms/step - loss: 0.3738 - Efficient_CapsNet_loss: 0.1174 - Generator_loss: 0.6541 - Efficient_CapsNet_accuracy: 0.8126 - val_loss: 0.3447 - val_Efficient_CapsNet_loss: 0.1936 - val_Generator_loss: 0.3855 - val_Efficient_CapsNet_accuracy: 0.6259 - lr: 9.4090e-05\n",
      "Epoch 4/10\n",
      "4500/4500 [==============================] - ETA: 0s - loss: 0.3601 - Efficient_CapsNet_loss: 0.1120 - Generator_loss: 0.6330 - Efficient_CapsNet_accuracy: 0.8225\n",
      "Epoch 4: val_Efficient_CapsNet_accuracy did not improve from 0.68431\n",
      "4500/4500 [==============================] - 419s 93ms/step - loss: 0.3601 - Efficient_CapsNet_loss: 0.1120 - Generator_loss: 0.6330 - Efficient_CapsNet_accuracy: 0.8225 - val_loss: 0.2762 - val_Efficient_CapsNet_loss: 0.1667 - val_Generator_loss: 0.2795 - val_Efficient_CapsNet_accuracy: 0.6701 - lr: 9.1267e-05\n",
      "Epoch 5/10\n",
      "4500/4500 [==============================] - ETA: 0s - loss: 0.3715 - Efficient_CapsNet_loss: 0.1080 - Generator_loss: 0.6721 - Efficient_CapsNet_accuracy: 0.8304\n",
      "Epoch 5: val_Efficient_CapsNet_accuracy improved from 0.68431 to 0.68600, saving model to bin\\efficient_capsnetself_attention_new_train.h5\n",
      "4500/4500 [==============================] - 426s 95ms/step - loss: 0.3715 - Efficient_CapsNet_loss: 0.1080 - Generator_loss: 0.6721 - Efficient_CapsNet_accuracy: 0.8304 - val_loss: 0.2876 - val_Efficient_CapsNet_loss: 0.1709 - val_Generator_loss: 0.2977 - val_Efficient_CapsNet_accuracy: 0.6860 - lr: 8.8529e-05\n",
      "Epoch 6/10\n",
      "4500/4500 [==============================] - ETA: 0s - loss: 0.3641 - Efficient_CapsNet_loss: 0.1050 - Generator_loss: 0.6609 - Efficient_CapsNet_accuracy: 0.8346\n",
      "Epoch 6: val_Efficient_CapsNet_accuracy did not improve from 0.68600\n",
      "4500/4500 [==============================] - 421s 93ms/step - loss: 0.3641 - Efficient_CapsNet_loss: 0.1050 - Generator_loss: 0.6609 - Efficient_CapsNet_accuracy: 0.8346 - val_loss: 0.3697 - val_Efficient_CapsNet_loss: 0.2463 - val_Generator_loss: 0.3149 - val_Efficient_CapsNet_accuracy: 0.5694 - lr: 8.5873e-05\n",
      "Epoch 7/10\n",
      "4500/4500 [==============================] - ETA: 0s - loss: 0.3538 - Efficient_CapsNet_loss: 0.1021 - Generator_loss: 0.6423 - Efficient_CapsNet_accuracy: 0.8393\n",
      "Epoch 7: val_Efficient_CapsNet_accuracy improved from 0.68600 to 0.69881, saving model to bin\\efficient_capsnetself_attention_new_train.h5\n",
      "4500/4500 [==============================] - 423s 94ms/step - loss: 0.3538 - Efficient_CapsNet_loss: 0.1021 - Generator_loss: 0.6423 - Efficient_CapsNet_accuracy: 0.8393 - val_loss: 0.2624 - val_Efficient_CapsNet_loss: 0.1571 - val_Generator_loss: 0.2686 - val_Efficient_CapsNet_accuracy: 0.6988 - lr: 8.3297e-05\n",
      "Epoch 8/10\n",
      "4500/4500 [==============================] - ETA: 0s - loss: 0.3556 - Efficient_CapsNet_loss: 0.0998 - Generator_loss: 0.6525 - Efficient_CapsNet_accuracy: 0.8433\n",
      "Epoch 8: val_Efficient_CapsNet_accuracy did not improve from 0.69881\n",
      "4500/4500 [==============================] - 426s 95ms/step - loss: 0.3556 - Efficient_CapsNet_loss: 0.0998 - Generator_loss: 0.6525 - Efficient_CapsNet_accuracy: 0.8433 - val_loss: 0.3279 - val_Efficient_CapsNet_loss: 0.1789 - val_Generator_loss: 0.3802 - val_Efficient_CapsNet_accuracy: 0.6769 - lr: 8.0798e-05\n",
      "Epoch 9/10\n",
      "4500/4500 [==============================] - ETA: 0s - loss: 0.3456 - Efficient_CapsNet_loss: 0.0976 - Generator_loss: 0.6327 - Efficient_CapsNet_accuracy: 0.8478\n",
      "Epoch 9: val_Efficient_CapsNet_accuracy improved from 0.69881 to 0.75563, saving model to bin\\efficient_capsnetself_attention_new_train.h5\n",
      "4500/4500 [==============================] - 411s 91ms/step - loss: 0.3456 - Efficient_CapsNet_loss: 0.0976 - Generator_loss: 0.6327 - Efficient_CapsNet_accuracy: 0.8478 - val_loss: 0.2441 - val_Efficient_CapsNet_loss: 0.1382 - val_Generator_loss: 0.2700 - val_Efficient_CapsNet_accuracy: 0.7556 - lr: 7.8374e-05\n",
      "Epoch 10/10\n",
      "4500/4500 [==============================] - ETA: 0s - loss: 0.3532 - Efficient_CapsNet_loss: 0.0955 - Generator_loss: 0.6574 - Efficient_CapsNet_accuracy: 0.8510\n",
      "Epoch 10: val_Efficient_CapsNet_accuracy did not improve from 0.75563\n",
      "4500/4500 [==============================] - 427s 95ms/step - loss: 0.3532 - Efficient_CapsNet_loss: 0.0955 - Generator_loss: 0.6574 - Efficient_CapsNet_accuracy: 0.8510 - val_loss: 0.3209 - val_Efficient_CapsNet_loss: 0.1905 - val_Generator_loss: 0.3326 - val_Efficient_CapsNet_accuracy: 0.6626 - lr: 7.6023e-05\n"
     ]
    }
   ],
   "source": [
    "history = model_train.train(dataset, initial_epoch=0)"
   ]
  },
  {
   "cell_type": "code",
   "execution_count": 9,
   "metadata": {},
   "outputs": [
    {
     "data": {
      "text/plain": [
       "\"\\nmodel_train = EfficientCapsNet(model_name, mode='train', verbose=True)\\nmodel_train.model_path = './bin/efficient_capsnetdynamic_routing_new_train.h5'\\nmodel_train.load_graph_weights()\\nhistory = model_train.train(dataset, initial_epoch=10)\\n\""
      ]
     },
     "execution_count": 9,
     "metadata": {},
     "output_type": "execute_result"
    }
   ],
   "source": [
    "# Continue training\n",
    "\"\"\"\n",
    "model_train = EfficientCapsNet(model_name, mode='train', verbose=True)\n",
    "model_train.model_path = './bin/efficient_capsnetdynamic_routing_new_train.h5'\n",
    "model_train.load_graph_weights()\n",
    "history = model_train.train(dataset, initial_epoch=10)\n",
    "\"\"\""
   ]
  },
  {
   "cell_type": "code",
   "execution_count": 10,
   "metadata": {},
   "outputs": [
    {
     "data": {
      "image/png": "[encoded data removed]",
      "text/plain": [
       "<Figure size 800x500 with 1 Axes>"
      ]
     },
     "metadata": {},
     "output_type": "display_data"
    }
   ],
   "source": [
    "plotHistory(history)"
   ]
  }
 ],
 "metadata": {
  "kernelspec": {
   "display_name": "Python 3",
   "language": "python",
   "name": "python3"
  },
  "language_info": {
   "codemirror_mode": {
    "name": "ipython",
    "version": 3
   },
   "file_extension": ".py",
   "mimetype": "text/x-python",
   "name": "python",
   "nbconvert_exporter": "python",
   "pygments_lexer": "ipython3",
   "version": "3.8.18"
  },
  "toc": {
   "base_numbering": 1,
   "nav_menu": {},
   "number_sections": false,
   "sideBar": true,
   "skip_h1_title": false,
   "title_cell": "Table of Contents",
   "title_sidebar": "Contents",
   "toc_cell": false,
   "toc_position": {},
   "toc_section_display": true,
   "toc_window_display": false
  },
  "varInspector": {
   "cols": {
    "lenName": 16,
    "lenType": 16,
    "lenVar": 40
   },
   "kernels_config": {
    "python": {
     "delete_cmd_postfix": "",
     "delete_cmd_prefix": "del ",
     "library": "var_list.py",
     "varRefreshCmd": "print(var_dic_list())"
    },
    "r": {
     "delete_cmd_postfix": ") ",
     "delete_cmd_prefix": "rm(",
     "library": "var_list.r",
     "varRefreshCmd": "cat(var_dic_list()) "
    }
   },
   "types_to_exclude": [
    "module",
    "function",
    "builtin_function_or_method",
    "instance",
    "_Feature"
   ],
   "window_display": false
  }
 },
 "nbformat": 4,
 "nbformat_minor": 4
}
