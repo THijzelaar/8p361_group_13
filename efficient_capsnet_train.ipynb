{
 "cells": [
  {
   "cell_type": "markdown",
   "metadata": {},
   "source": [
    "# Efficient-CapsNet Model Train\n",
    "\n",
    "In this notebook a simple overview is provided to train the models. To change between the routings, change the model_name variable below beteen dynamic_routing or self_attention.\n",
    "\n",
    "\n",
    "**NB**: remember to modify the \"config.json\" file with the appropriate parameters."
   ]
  },
  {
   "cell_type": "code",
   "execution_count": 1,
   "metadata": {
    "ExecuteTime": {
     "end_time": "2021-01-28T14:17:38.152068Z",
     "start_time": "2021-01-28T14:17:38.145241Z"
    }
   },
   "outputs": [],
   "source": [
    "%load_ext autoreload\n",
    "%autoreload 2"
   ]
  },
  {
   "cell_type": "code",
   "execution_count": 1,
   "metadata": {
    "ExecuteTime": {
     "end_time": "2021-01-28T14:17:39.436665Z",
     "start_time": "2021-01-28T14:17:38.152986Z"
    }
   },
   "outputs": [],
   "source": [
    "import tensorflow as tf\n",
    "from utils import Dataset, plotImages, plotWrongImages, plotHistory\n",
    "from models import EfficientCapsNet"
   ]
  },
  {
   "cell_type": "code",
   "execution_count": 2,
   "metadata": {
    "ExecuteTime": {
     "end_time": "2021-01-28T14:17:39.485046Z",
     "start_time": "2021-01-28T14:17:39.438120Z"
    }
   },
   "outputs": [
    {
     "name": "stdout",
     "output_type": "stream",
     "text": [
      "True\n",
      "WARNING:tensorflow:From C:\\Users\\20203080\\AppData\\Local\\Temp\\ipykernel_10748\\253507145.py:3: is_gpu_available (from tensorflow.python.framework.test_util) is deprecated and will be removed in a future version.\n",
      "Instructions for updating:\n",
      "Use `tf.config.list_physical_devices('GPU')` instead.\n",
      "True\n",
      "[PhysicalDevice(name='/physical_device:GPU:0', device_type='GPU')] <module 'tensorflow._api.v2.version' from 'C:\\\\Users\\\\20203080\\\\AppData\\\\Roaming\\\\Python\\\\Python38\\\\site-packages\\\\tensorflow\\\\_api\\\\v2\\\\version\\\\__init__.py'>\n"
     ]
    }
   ],
   "source": [
    "import tensorflow as tf\n",
    "print(tf.test.is_built_with_cuda())\n",
    "print(tf.test.is_gpu_available(cuda_only=False, min_cuda_compute_capability=None))\n",
    "gpus = tf.config.experimental.list_physical_devices('GPU')\n",
    "print(gpus, tf.version)\n",
    "tf.config.experimental.set_visible_devices(gpus[0], 'GPU')\n",
    "tf.config.experimental.set_memory_growth(gpus[0], True)"
   ]
  },
  {
   "cell_type": "code",
   "execution_count": 3,
   "metadata": {
    "ExecuteTime": {
     "end_time": "2021-01-28T14:17:39.502857Z",
     "start_time": "2021-01-28T14:17:39.486169Z"
    }
   },
   "outputs": [],
   "source": [
    "# some parameters\n",
    "model_name = \"dynamic_routing\""
   ]
  },
  {
   "cell_type": "markdown",
   "metadata": {},
   "source": [
    "# 1.0 Import the Dataset"
   ]
  },
  {
   "cell_type": "code",
   "execution_count": 4,
   "metadata": {
    "ExecuteTime": {
     "end_time": "2021-01-28T14:17:39.898397Z",
     "start_time": "2021-01-28T14:17:39.503821Z"
    }
   },
   "outputs": [],
   "source": [
    "dataset = Dataset(model_name, config_path='config.json')"
   ]
  },
  {
   "cell_type": "markdown",
   "metadata": {},
   "source": [
    "## 1.1 Visualize imported dataset"
   ]
  },
  {
   "cell_type": "code",
   "execution_count": 6,
   "metadata": {
    "ExecuteTime": {
     "end_time": "2021-01-28T14:17:41.229443Z",
     "start_time": "2021-01-28T14:17:39.899261Z"
    }
   },
   "outputs": [],
   "source": [
    "n_images = 20 # number of images to be plotted\n",
    "#plotImages(dataset.X_test[:n_images,...,0], dataset.y_test[:n_images], n_images, dataset.class_names)"
   ]
  },
  {
   "cell_type": "markdown",
   "metadata": {},
   "source": [
    "# 2.0 Load the Model"
   ]
  },
  {
   "cell_type": "code",
   "execution_count": 7,
   "metadata": {
    "ExecuteTime": {
     "end_time": "2021-01-28T14:21:46.634945Z",
     "start_time": "2021-01-28T14:21:46.311296Z"
    },
    "scrolled": false
   },
   "outputs": [
    {
     "name": "stdout",
     "output_type": "stream",
     "text": [
      "Model: \"Efficient_CapsNet\"\n",
      "_________________________________________________________________\n",
      " Layer (type)                Output Shape              Param #   \n",
      "=================================================================\n",
      " input_4 (InputLayer)        [(None, 96, 96, 3)]       0         \n",
      "                                                                 \n",
      " conv2d (Conv2D)             (None, 45, 45, 32)        4736      \n",
      "                                                                 \n",
      " leaky_re_lu (LeakyReLU)     (None, 45, 45, 32)        0         \n",
      "                                                                 \n",
      " batch_normalization (BatchN  (None, 45, 45, 32)       128       \n",
      " ormalization)                                                   \n",
      "                                                                 \n",
      " conv2d_1 (Conv2D)           (None, 43, 43, 64)        18496     \n",
      "                                                                 \n",
      " leaky_re_lu_1 (LeakyReLU)   (None, 43, 43, 64)        0         \n",
      "                                                                 \n",
      " batch_normalization_1 (Batc  (None, 43, 43, 64)       256       \n",
      " hNormalization)                                                 \n",
      "                                                                 \n",
      " conv2d_2 (Conv2D)           (None, 41, 41, 64)        36928     \n",
      "                                                                 \n",
      " leaky_re_lu_2 (LeakyReLU)   (None, 41, 41, 64)        0         \n",
      "                                                                 \n",
      " batch_normalization_2 (Batc  (None, 41, 41, 64)       256       \n",
      " hNormalization)                                                 \n",
      "                                                                 \n",
      " conv2d_3 (Conv2D)           (None, 20, 20, 128)       73856     \n",
      "                                                                 \n",
      " leaky_re_lu_3 (LeakyReLU)   (None, 20, 20, 128)       0         \n",
      "                                                                 \n",
      " batch_normalization_3 (Batc  (None, 20, 20, 128)      512       \n",
      " hNormalization)                                                 \n",
      "                                                                 \n",
      " primary_caps (PrimaryCaps)  (None, 1, 1, 16, 8)       51328     \n",
      "                                                                 \n",
      " digit_caps (DigitCaps)      (None, 2, 16)             4128      \n",
      "                                                                 \n",
      " length_capsnet_output (Leng  (None, 2)                0         \n",
      " th)                                                             \n",
      "                                                                 \n",
      "=================================================================\n",
      "Total params: 190,624\n",
      "Trainable params: 190,048\n",
      "Non-trainable params: 576\n",
      "_________________________________________________________________\n",
      "\n",
      "\n",
      "\n",
      "Model: \"Generator\"\n",
      "_________________________________________________________________\n",
      " Layer (type)                Output Shape              Param #   \n",
      "=================================================================\n",
      " input_5 (InputLayer)        [(None, 32)]              0         \n",
      "                                                                 \n",
      " dense (Dense)               (None, 512)               16896     \n",
      "                                                                 \n",
      " dense_1 (Dense)             (None, 1024)              525312    \n",
      "                                                                 \n",
      " dense_2 (Dense)             (None, 27648)             28339200  \n",
      "                                                                 \n",
      " out_generator (Reshape)     (None, 96, 96, 3)         0         \n",
      "                                                                 \n",
      "=================================================================\n",
      "Total params: 28,881,408\n",
      "Trainable params: 28,881,408\n",
      "Non-trainable params: 0\n",
      "_________________________________________________________________\n",
      "\n",
      "\n",
      "\n"
     ]
    }
   ],
   "source": [
    "model_train = EfficientCapsNet(model_name, mode='train', verbose=True)"
   ]
  },
  {
   "cell_type": "markdown",
   "metadata": {
    "ExecuteTime": {
     "end_time": "2021-01-25T17:38:06.189031Z",
     "start_time": "2021-01-25T17:38:05.460415Z"
    }
   },
   "source": [
    "# 3.0 Train the Model"
   ]
  },
  {
   "cell_type": "code",
   "execution_count": 8,
   "metadata": {
    "ExecuteTime": {
     "end_time": "2021-01-28T14:25:09.510250Z",
     "start_time": "2021-01-28T14:24:56.018640Z"
    },
    "scrolled": true
   },
   "outputs": [
    {
     "name": "stdout",
     "output_type": "stream",
     "text": [
      "Found 144000 files belonging to 2 classes.\n",
      "Found 16000 files belonging to 2 classes.\n",
      "------------------------------dynamic_routing train------------------------------\n",
      "Epoch 1/10\n",
      "4500/4500 [==============================] - ETA: 0s - loss: 0.6743 - Efficient_CapsNet_loss: 0.1485 - Generator_loss: 1.3414 - Efficient_CapsNet_accuracy: 0.7724\n",
      "Epoch 1: val_Efficient_CapsNet_accuracy improved from -inf to 0.49994, saving model to bin\\efficient_capsnetdynamic_routing_new_train.h5\n",
      "4500/4500 [==============================] - 345s 74ms/step - loss: 0.6743 - Efficient_CapsNet_loss: 0.1485 - Generator_loss: 1.3414 - Efficient_CapsNet_accuracy: 0.7724 - val_loss: 0.3924 - val_Efficient_CapsNet_loss: 0.3501 - val_Generator_loss: 0.1077 - val_Efficient_CapsNet_accuracy: 0.4999 - lr: 5.0000e-05\n",
      "Epoch 2/10\n",
      "4500/4500 [==============================] - ETA: 0s - loss: 0.4245 - Efficient_CapsNet_loss: 0.1305 - Generator_loss: 0.7500 - Efficient_CapsNet_accuracy: 0.7944\n",
      "Epoch 2: val_Efficient_CapsNet_accuracy improved from 0.49994 to 0.51406, saving model to bin\\efficient_capsnetdynamic_routing_new_train.h5\n",
      "4500/4500 [==============================] - 350s 78ms/step - loss: 0.4245 - Efficient_CapsNet_loss: 0.1305 - Generator_loss: 0.7500 - Efficient_CapsNet_accuracy: 0.7944 - val_loss: 0.4294 - val_Efficient_CapsNet_loss: 0.2619 - val_Generator_loss: 0.4273 - val_Efficient_CapsNet_accuracy: 0.5141 - lr: 4.8500e-05\n",
      "Epoch 3/10\n",
      "4500/4500 [==============================] - ETA: 0s - loss: 0.3811 - Efficient_CapsNet_loss: 0.1218 - Generator_loss: 0.6614 - Efficient_CapsNet_accuracy: 0.8064\n",
      "Epoch 3: val_Efficient_CapsNet_accuracy did not improve from 0.51406\n",
      "4500/4500 [==============================] - 348s 77ms/step - loss: 0.3811 - Efficient_CapsNet_loss: 0.1218 - Generator_loss: 0.6614 - Efficient_CapsNet_accuracy: 0.8064 - val_loss: 0.4976 - val_Efficient_CapsNet_loss: 0.3409 - val_Generator_loss: 0.3998 - val_Efficient_CapsNet_accuracy: 0.5000 - lr: 4.7045e-05\n",
      "Epoch 4/10\n",
      "4500/4500 [==============================] - ETA: 0s - loss: 0.3730 - Efficient_CapsNet_loss: 0.1160 - Generator_loss: 0.6555 - Efficient_CapsNet_accuracy: 0.8160\n",
      "Epoch 4: val_Efficient_CapsNet_accuracy did not improve from 0.51406\n",
      "4500/4500 [==============================] - 341s 76ms/step - loss: 0.3730 - Efficient_CapsNet_loss: 0.1160 - Generator_loss: 0.6555 - Efficient_CapsNet_accuracy: 0.8160 - val_loss: 0.4641 - val_Efficient_CapsNet_loss: 0.3077 - val_Generator_loss: 0.3990 - val_Efficient_CapsNet_accuracy: 0.5008 - lr: 4.5634e-05\n",
      "Epoch 5/10\n",
      "4500/4500 [==============================] - ETA: 0s - loss: 0.3711 - Efficient_CapsNet_loss: 0.1122 - Generator_loss: 0.6604 - Efficient_CapsNet_accuracy: 0.8218\n",
      "Epoch 5: val_Efficient_CapsNet_accuracy did not improve from 0.51406\n",
      "4500/4500 [==============================] - 340s 76ms/step - loss: 0.3711 - Efficient_CapsNet_loss: 0.1122 - Generator_loss: 0.6604 - Efficient_CapsNet_accuracy: 0.8218 - val_loss: 0.4336 - val_Efficient_CapsNet_loss: 0.2890 - val_Generator_loss: 0.3690 - val_Efficient_CapsNet_accuracy: 0.5017 - lr: 4.4265e-05\n",
      "Epoch 6/10\n",
      "4500/4500 [==============================] - ETA: 0s - loss: 0.3651 - Efficient_CapsNet_loss: 0.1092 - Generator_loss: 0.6527 - Efficient_CapsNet_accuracy: 0.8278\n",
      "Epoch 6: val_Efficient_CapsNet_accuracy improved from 0.51406 to 0.52438, saving model to bin\\efficient_capsnetdynamic_routing_new_train.h5\n",
      "4500/4500 [==============================] - 340s 75ms/step - loss: 0.3651 - Efficient_CapsNet_loss: 0.1092 - Generator_loss: 0.6527 - Efficient_CapsNet_accuracy: 0.8278 - val_loss: 0.4238 - val_Efficient_CapsNet_loss: 0.2967 - val_Generator_loss: 0.3243 - val_Efficient_CapsNet_accuracy: 0.5244 - lr: 4.2937e-05\n",
      "Epoch 7/10\n",
      "4500/4500 [==============================] - ETA: 0s - loss: 0.3653 - Efficient_CapsNet_loss: 0.1070 - Generator_loss: 0.6588 - Efficient_CapsNet_accuracy: 0.8303\n",
      "Epoch 7: val_Efficient_CapsNet_accuracy did not improve from 0.52438\n",
      "4500/4500 [==============================] - 339s 75ms/step - loss: 0.3653 - Efficient_CapsNet_loss: 0.1070 - Generator_loss: 0.6588 - Efficient_CapsNet_accuracy: 0.8303 - val_loss: 0.4262 - val_Efficient_CapsNet_loss: 0.3143 - val_Generator_loss: 0.2854 - val_Efficient_CapsNet_accuracy: 0.4934 - lr: 4.1649e-05\n",
      "Epoch 8/10\n",
      "4500/4500 [==============================] - ETA: 0s - loss: 0.3515 - Efficient_CapsNet_loss: 0.1048 - Generator_loss: 0.6293 - Efficient_CapsNet_accuracy: 0.8357\n",
      "Epoch 8: val_Efficient_CapsNet_accuracy improved from 0.52438 to 0.55756, saving model to bin\\efficient_capsnetdynamic_routing_new_train.h5\n",
      "4500/4500 [==============================] - 375s 83ms/step - loss: 0.3515 - Efficient_CapsNet_loss: 0.1048 - Generator_loss: 0.6293 - Efficient_CapsNet_accuracy: 0.8357 - val_loss: 0.4126 - val_Efficient_CapsNet_loss: 0.2983 - val_Generator_loss: 0.2916 - val_Efficient_CapsNet_accuracy: 0.5576 - lr: 4.0399e-05\n",
      "Epoch 9/10\n",
      "4500/4500 [==============================] - ETA: 0s - loss: 0.3582 - Efficient_CapsNet_loss: 0.1031 - Generator_loss: 0.6509 - Efficient_CapsNet_accuracy: 0.8372\n",
      "Epoch 9: val_Efficient_CapsNet_accuracy improved from 0.55756 to 0.57125, saving model to bin\\efficient_capsnetdynamic_routing_new_train.h5\n",
      "4500/4500 [==============================] - 420s 93ms/step - loss: 0.3582 - Efficient_CapsNet_loss: 0.1031 - Generator_loss: 0.6509 - Efficient_CapsNet_accuracy: 0.8372 - val_loss: 0.3849 - val_Efficient_CapsNet_loss: 0.2812 - val_Generator_loss: 0.2646 - val_Efficient_CapsNet_accuracy: 0.5713 - lr: 3.9187e-05\n",
      "Epoch 10/10\n",
      "4500/4500 [==============================] - ETA: 0s - loss: 0.3487 - Efficient_CapsNet_loss: 0.1015 - Generator_loss: 0.6306 - Efficient_CapsNet_accuracy: 0.8398\n",
      "Epoch 10: val_Efficient_CapsNet_accuracy did not improve from 0.57125\n",
      "4500/4500 [==============================] - 405s 90ms/step - loss: 0.3487 - Efficient_CapsNet_loss: 0.1015 - Generator_loss: 0.6306 - Efficient_CapsNet_accuracy: 0.8398 - val_loss: 0.3623 - val_Efficient_CapsNet_loss: 0.2476 - val_Generator_loss: 0.2925 - val_Efficient_CapsNet_accuracy: 0.5579 - lr: 3.8012e-05\n"
     ]
    }
   ],
   "source": [
    "history = model_train.train(dataset, initial_epoch=0)"
   ]
  },
  {
   "cell_type": "code",
   "execution_count": 5,
   "metadata": {},
   "outputs": [
    {
     "name": "stdout",
     "output_type": "stream",
     "text": [
      "Model: \"Efficient_CapsNet\"\n",
      "_________________________________________________________________\n",
      " Layer (type)                Output Shape              Param #   \n",
      "=================================================================\n",
      " input_4 (InputLayer)        [(None, 96, 96, 3)]       0         \n",
      "                                                                 \n",
      " conv2d (Conv2D)             (None, 45, 45, 32)        4736      \n",
      "                                                                 \n",
      " leaky_re_lu (LeakyReLU)     (None, 45, 45, 32)        0         \n",
      "                                                                 \n",
      " batch_normalization (BatchN  (None, 45, 45, 32)       128       \n",
      " ormalization)                                                   \n",
      "                                                                 \n",
      " conv2d_1 (Conv2D)           (None, 43, 43, 64)        18496     \n",
      "                                                                 \n",
      " leaky_re_lu_1 (LeakyReLU)   (None, 43, 43, 64)        0         \n",
      "                                                                 \n",
      " batch_normalization_1 (Batc  (None, 43, 43, 64)       256       \n",
      " hNormalization)                                                 \n",
      "                                                                 \n",
      " conv2d_2 (Conv2D)           (None, 41, 41, 64)        36928     \n",
      "                                                                 \n",
      " leaky_re_lu_2 (LeakyReLU)   (None, 41, 41, 64)        0         \n",
      "                                                                 \n",
      " batch_normalization_2 (Batc  (None, 41, 41, 64)       256       \n",
      " hNormalization)                                                 \n",
      "                                                                 \n",
      " conv2d_3 (Conv2D)           (None, 20, 20, 128)       73856     \n",
      "                                                                 \n",
      " leaky_re_lu_3 (LeakyReLU)   (None, 20, 20, 128)       0         \n",
      "                                                                 \n",
      " batch_normalization_3 (Batc  (None, 20, 20, 128)      512       \n",
      " hNormalization)                                                 \n",
      "                                                                 \n",
      " primary_caps (PrimaryCaps)  (None, 1, 1, 16, 8)       51328     \n",
      "                                                                 \n",
      " digit_caps (DigitCaps)      (None, 2, 16)             4128      \n",
      "                                                                 \n",
      " length_capsnet_output (Leng  (None, 2)                0         \n",
      " th)                                                             \n",
      "                                                                 \n",
      "=================================================================\n",
      "Total params: 190,624\n",
      "Trainable params: 190,048\n",
      "Non-trainable params: 576\n",
      "_________________________________________________________________\n",
      "\n",
      "\n",
      "\n",
      "Model: \"Generator\"\n",
      "_________________________________________________________________\n",
      " Layer (type)                Output Shape              Param #   \n",
      "=================================================================\n",
      " input_5 (InputLayer)        [(None, 32)]              0         \n",
      "                                                                 \n",
      " dense (Dense)               (None, 512)               16896     \n",
      "                                                                 \n",
      " dense_1 (Dense)             (None, 1024)              525312    \n",
      "                                                                 \n",
      " dense_2 (Dense)             (None, 27648)             28339200  \n",
      "                                                                 \n",
      " out_generator (Reshape)     (None, 96, 96, 3)         0         \n",
      "                                                                 \n",
      "=================================================================\n",
      "Total params: 28,881,408\n",
      "Trainable params: 28,881,408\n",
      "Non-trainable params: 0\n",
      "_________________________________________________________________\n",
      "\n",
      "\n",
      "\n",
      "[INFO] Graph Weights loaded\n",
      "Found 144000 files belonging to 2 classes.\n",
      "Found 16000 files belonging to 2 classes.\n",
      "------------------------------dynamic_routing train------------------------------\n",
      "Epoch 11/25\n",
      "4500/4500 [==============================] - ETA: 0s - loss: 0.3537 - Efficient_CapsNet_loss: 0.1014 - Generator_loss: 0.6436 - Efficient_CapsNet_accuracy: 0.8407\n",
      "Epoch 11: val_Efficient_CapsNet_accuracy improved from -inf to 0.60794, saving model to bin\\efficient_capsnetdynamic_routing_new_train.h5\n",
      "4500/4500 [==============================] - 493s 106ms/step - loss: 0.3537 - Efficient_CapsNet_loss: 0.1014 - Generator_loss: 0.6436 - Efficient_CapsNet_accuracy: 0.8407 - val_loss: 0.3542 - val_Efficient_CapsNet_loss: 0.2481 - val_Generator_loss: 0.2707 - val_Efficient_CapsNet_accuracy: 0.6079 - lr: 3.6871e-05\n",
      "Epoch 12/25\n",
      "4500/4500 [==============================] - ETA: 0s - loss: 0.3541 - Efficient_CapsNet_loss: 0.1001 - Generator_loss: 0.6480 - Efficient_CapsNet_accuracy: 0.8431\n",
      "Epoch 12: val_Efficient_CapsNet_accuracy did not improve from 0.60794\n",
      "4500/4500 [==============================] - 496s 110ms/step - loss: 0.3541 - Efficient_CapsNet_loss: 0.1001 - Generator_loss: 0.6480 - Efficient_CapsNet_accuracy: 0.8431 - val_loss: 0.3411 - val_Efficient_CapsNet_loss: 0.2417 - val_Generator_loss: 0.2535 - val_Efficient_CapsNet_accuracy: 0.5714 - lr: 3.5765e-05\n",
      "Epoch 13/25\n",
      "4500/4500 [==============================] - ETA: 0s - loss: 0.3577 - Efficient_CapsNet_loss: 0.0985 - Generator_loss: 0.6612 - Efficient_CapsNet_accuracy: 0.8460\n",
      "Epoch 13: val_Efficient_CapsNet_accuracy did not improve from 0.60794\n",
      "4500/4500 [==============================] - 435s 97ms/step - loss: 0.3577 - Efficient_CapsNet_loss: 0.0985 - Generator_loss: 0.6612 - Efficient_CapsNet_accuracy: 0.8460 - val_loss: 0.3413 - val_Efficient_CapsNet_loss: 0.2472 - val_Generator_loss: 0.2401 - val_Efficient_CapsNet_accuracy: 0.5721 - lr: 3.4692e-05\n",
      "Epoch 14/25\n",
      "4500/4500 [==============================] - ETA: 0s - loss: 0.3510 - Efficient_CapsNet_loss: 0.0976 - Generator_loss: 0.6465 - Efficient_CapsNet_accuracy: 0.8472\n",
      "Epoch 14: val_Efficient_CapsNet_accuracy improved from 0.60794 to 0.62781, saving model to bin\\efficient_capsnetdynamic_routing_new_train.h5\n",
      "4500/4500 [==============================] - 411s 91ms/step - loss: 0.3510 - Efficient_CapsNet_loss: 0.0976 - Generator_loss: 0.6465 - Efficient_CapsNet_accuracy: 0.8472 - val_loss: 0.3487 - val_Efficient_CapsNet_loss: 0.2400 - val_Generator_loss: 0.2774 - val_Efficient_CapsNet_accuracy: 0.6278 - lr: 3.3651e-05\n",
      "Epoch 15/25\n",
      "4500/4500 [==============================] - ETA: 0s - loss: 0.3429 - Efficient_CapsNet_loss: 0.0957 - Generator_loss: 0.6308 - Efficient_CapsNet_accuracy: 0.8507\n",
      "Epoch 15: val_Efficient_CapsNet_accuracy did not improve from 0.62781\n",
      "4500/4500 [==============================] - 420s 93ms/step - loss: 0.3429 - Efficient_CapsNet_loss: 0.0957 - Generator_loss: 0.6308 - Efficient_CapsNet_accuracy: 0.8507 - val_loss: 0.3023 - val_Efficient_CapsNet_loss: 0.2172 - val_Generator_loss: 0.2170 - val_Efficient_CapsNet_accuracy: 0.6265 - lr: 3.2642e-05\n",
      "Epoch 16/25\n",
      "4500/4500 [==============================] - ETA: 0s - loss: 0.3458 - Efficient_CapsNet_loss: 0.0951 - Generator_loss: 0.6396 - Efficient_CapsNet_accuracy: 0.8512\n",
      "Epoch 16: val_Efficient_CapsNet_accuracy improved from 0.62781 to 0.67481, saving model to bin\\efficient_capsnetdynamic_routing_new_train.h5\n",
      "4500/4500 [==============================] - 390s 87ms/step - loss: 0.3458 - Efficient_CapsNet_loss: 0.0951 - Generator_loss: 0.6396 - Efficient_CapsNet_accuracy: 0.8512 - val_loss: 0.3131 - val_Efficient_CapsNet_loss: 0.2132 - val_Generator_loss: 0.2548 - val_Efficient_CapsNet_accuracy: 0.6748 - lr: 3.1663e-05\n",
      "Epoch 17/25\n",
      "4500/4500 [==============================] - ETA: 0s - loss: 0.3501 - Efficient_CapsNet_loss: 0.0936 - Generator_loss: 0.6545 - Efficient_CapsNet_accuracy: 0.8542\n",
      "Epoch 17: val_Efficient_CapsNet_accuracy improved from 0.67481 to 0.76425, saving model to bin\\efficient_capsnetdynamic_routing_new_train.h5\n",
      "4500/4500 [==============================] - 386s 86ms/step - loss: 0.3501 - Efficient_CapsNet_loss: 0.0936 - Generator_loss: 0.6545 - Efficient_CapsNet_accuracy: 0.8542 - val_loss: 0.2831 - val_Efficient_CapsNet_loss: 0.1732 - val_Generator_loss: 0.2801 - val_Efficient_CapsNet_accuracy: 0.7642 - lr: 3.0713e-05\n",
      "Epoch 18/25\n",
      "4500/4500 [==============================] - ETA: 0s - loss: 0.3453 - Efficient_CapsNet_loss: 0.0924 - Generator_loss: 0.6452 - Efficient_CapsNet_accuracy: 0.8566\n",
      "Epoch 18: val_Efficient_CapsNet_accuracy did not improve from 0.76425\n",
      "4500/4500 [==============================] - 386s 86ms/step - loss: 0.3453 - Efficient_CapsNet_loss: 0.0924 - Generator_loss: 0.6452 - Efficient_CapsNet_accuracy: 0.8566 - val_loss: 0.4140 - val_Efficient_CapsNet_loss: 0.3369 - val_Generator_loss: 0.1968 - val_Efficient_CapsNet_accuracy: 0.5211 - lr: 2.9791e-05\n",
      "Epoch 19/25\n",
      "4500/4500 [==============================] - ETA: 0s - loss: 0.3448 - Efficient_CapsNet_loss: 0.0918 - Generator_loss: 0.6455 - Efficient_CapsNet_accuracy: 0.8568\n",
      "Epoch 19: val_Efficient_CapsNet_accuracy did not improve from 0.76425\n",
      "4500/4500 [==============================] - 386s 86ms/step - loss: 0.3448 - Efficient_CapsNet_loss: 0.0918 - Generator_loss: 0.6455 - Efficient_CapsNet_accuracy: 0.8568 - val_loss: 0.3640 - val_Efficient_CapsNet_loss: 0.2837 - val_Generator_loss: 0.2048 - val_Efficient_CapsNet_accuracy: 0.5731 - lr: 2.8898e-05\n",
      "Epoch 20/25\n",
      "4500/4500 [==============================] - ETA: 0s - loss: 0.3494 - Efficient_CapsNet_loss: 0.0905 - Generator_loss: 0.6604 - Efficient_CapsNet_accuracy: 0.8592\n",
      "Epoch 20: val_Efficient_CapsNet_accuracy did not improve from 0.76425\n",
      "4500/4500 [==============================] - 394s 88ms/step - loss: 0.3494 - Efficient_CapsNet_loss: 0.0905 - Generator_loss: 0.6604 - Efficient_CapsNet_accuracy: 0.8592 - val_loss: 0.2792 - val_Efficient_CapsNet_loss: 0.2037 - val_Generator_loss: 0.1926 - val_Efficient_CapsNet_accuracy: 0.7067 - lr: 2.8031e-05\n",
      "Epoch 21/25\n",
      "4500/4500 [==============================] - ETA: 0s - loss: 0.3435 - Efficient_CapsNet_loss: 0.0895 - Generator_loss: 0.6479 - Efficient_CapsNet_accuracy: 0.8612\n",
      "Epoch 21: val_Efficient_CapsNet_accuracy improved from 0.76425 to 0.76737, saving model to bin\\efficient_capsnetdynamic_routing_new_train.h5\n",
      "4500/4500 [==============================] - 398s 88ms/step - loss: 0.3435 - Efficient_CapsNet_loss: 0.0895 - Generator_loss: 0.6479 - Efficient_CapsNet_accuracy: 0.8612 - val_loss: 0.2608 - val_Efficient_CapsNet_loss: 0.1733 - val_Generator_loss: 0.2232 - val_Efficient_CapsNet_accuracy: 0.7674 - lr: 2.7190e-05\n",
      "Epoch 22/25\n",
      "4500/4500 [==============================] - ETA: 0s - loss: 0.3407 - Efficient_CapsNet_loss: 0.0885 - Generator_loss: 0.6434 - Efficient_CapsNet_accuracy: 0.8630\n",
      "Epoch 22: val_Efficient_CapsNet_accuracy did not improve from 0.76737\n",
      "4500/4500 [==============================] - 389s 86ms/step - loss: 0.3407 - Efficient_CapsNet_loss: 0.0885 - Generator_loss: 0.6434 - Efficient_CapsNet_accuracy: 0.8630 - val_loss: 0.2722 - val_Efficient_CapsNet_loss: 0.1962 - val_Generator_loss: 0.1940 - val_Efficient_CapsNet_accuracy: 0.7211 - lr: 2.6374e-05\n",
      "Epoch 23/25\n",
      "4500/4500 [==============================] - ETA: 0s - loss: 0.3362 - Efficient_CapsNet_loss: 0.0881 - Generator_loss: 0.6331 - Efficient_CapsNet_accuracy: 0.8637\n",
      "Epoch 23: val_Efficient_CapsNet_accuracy did not improve from 0.76737\n",
      "4500/4500 [==============================] - 388s 86ms/step - loss: 0.3362 - Efficient_CapsNet_loss: 0.0881 - Generator_loss: 0.6331 - Efficient_CapsNet_accuracy: 0.8637 - val_loss: 0.3164 - val_Efficient_CapsNet_loss: 0.2330 - val_Generator_loss: 0.2125 - val_Efficient_CapsNet_accuracy: 0.6544 - lr: 2.5583e-05\n",
      "Epoch 24/25\n",
      "4500/4500 [==============================] - ETA: 0s - loss: 0.3414 - Efficient_CapsNet_loss: 0.0872 - Generator_loss: 0.6486 - Efficient_CapsNet_accuracy: 0.8657\n",
      "Epoch 24: val_Efficient_CapsNet_accuracy did not improve from 0.76737\n",
      "4500/4500 [==============================] - 389s 86ms/step - loss: 0.3414 - Efficient_CapsNet_loss: 0.0872 - Generator_loss: 0.6486 - Efficient_CapsNet_accuracy: 0.8657 - val_loss: 0.2550 - val_Efficient_CapsNet_loss: 0.1713 - val_Generator_loss: 0.2134 - val_Efficient_CapsNet_accuracy: 0.7628 - lr: 2.4815e-05\n",
      "Epoch 25/25\n",
      "4500/4500 [==============================] - ETA: 0s - loss: 0.3346 - Efficient_CapsNet_loss: 0.0863 - Generator_loss: 0.6336 - Efficient_CapsNet_accuracy: 0.8671\n",
      "Epoch 25: val_Efficient_CapsNet_accuracy did not improve from 0.76737\n",
      "4500/4500 [==============================] - 390s 87ms/step - loss: 0.3346 - Efficient_CapsNet_loss: 0.0863 - Generator_loss: 0.6336 - Efficient_CapsNet_accuracy: 0.8671 - val_loss: 0.2548 - val_Efficient_CapsNet_loss: 0.1727 - val_Generator_loss: 0.2093 - val_Efficient_CapsNet_accuracy: 0.7569 - lr: 2.4071e-05\n"
     ]
    }
   ],
   "source": [
    "# Continue training\n",
    "\n",
    "model_train = EfficientCapsNet(model_name, mode='train', verbose=True)\n",
    "model_train.model_path = './bin/efficient_capsnetdynamic_routing_new_train.h5'\n",
    "model_train.load_graph_weights()\n",
    "history = model_train.train(dataset, initial_epoch=10)\n"
   ]
  },
  {
   "cell_type": "code",
   "execution_count": 10,
   "metadata": {},
   "outputs": [
    {
     "data": {
      "image/png": "[encoded data removed]",
      "text/plain": [
       "<Figure size 800x500 with 1 Axes>"
      ]
     },
     "metadata": {},
     "output_type": "display_data"
    }
   ],
   "source": [
    "plotHistory(history)"
   ]
  }
 ],
 "metadata": {
  "kernelspec": {
   "display_name": "Python 3",
   "language": "python",
   "name": "python3"
  },
  "language_info": {
   "codemirror_mode": {
    "name": "ipython",
    "version": 3
   },
   "file_extension": ".py",
   "mimetype": "text/x-python",
   "name": "python",
   "nbconvert_exporter": "python",
   "pygments_lexer": "ipython3",
   "version": "3.8.18"
  },
  "toc": {
   "base_numbering": 1,
   "nav_menu": {},
   "number_sections": false,
   "sideBar": true,
   "skip_h1_title": false,
   "title_cell": "Table of Contents",
   "title_sidebar": "Contents",
   "toc_cell": false,
   "toc_position": {},
   "toc_section_display": true,
   "toc_window_display": false
  },
  "varInspector": {
   "cols": {
    "lenName": 16,
    "lenType": 16,
    "lenVar": 40
   },
   "kernels_config": {
    "python": {
     "delete_cmd_postfix": "",
     "delete_cmd_prefix": "del ",
     "library": "var_list.py",
     "varRefreshCmd": "print(var_dic_list())"
    },
    "r": {
     "delete_cmd_postfix": ") ",
     "delete_cmd_prefix": "rm(",
     "library": "var_list.r",
     "varRefreshCmd": "cat(var_dic_list()) "
    }
   },
   "types_to_exclude": [
    "module",
    "function",
    "builtin_function_or_method",
    "instance",
    "_Feature"
   ],
   "window_display": false
  }
 },
 "nbformat": 4,
 "nbformat_minor": 4
}
