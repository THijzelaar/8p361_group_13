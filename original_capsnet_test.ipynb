{
 "cells": [
  {
   "cell_type": "markdown",
   "metadata": {},
   "source": [
    "# Original CapsNet Model Test\n",
    "\n",
    "In this notebook we provide a simple interface to test the original CapsNet model described in \"Dynamic routinig between capsules\". The model is copycat of the original Sara's repository (https://github.com/Sarasra/models/tree/master/research/capsules) and also the weights, provided with our repository, are derived from the original ones. "
   ]
  },
  {
   "cell_type": "code",
   "execution_count": null,
   "metadata": {
    "ExecuteTime": {
     "end_time": "2021-01-25T22:03:01.755485Z",
     "start_time": "2021-01-25T22:03:01.745674Z"
    }
   },
   "outputs": [],
   "source": [
    "%load_ext autoreload\n",
    "%autoreload 2"
   ]
  },
  {
   "cell_type": "code",
   "execution_count": null,
   "metadata": {
    "ExecuteTime": {
     "end_time": "2021-01-25T22:03:03.310938Z",
     "start_time": "2021-01-25T22:03:02.045618Z"
    }
   },
   "outputs": [],
   "source": [
    "import tensorflow as tf\n",
    "from utils import Dataset, plotImages, plotWrongImages\n",
    "from models import CapsNet"
   ]
  },
  {
   "cell_type": "code",
   "execution_count": null,
   "metadata": {
    "ExecuteTime": {
     "end_time": "2021-01-25T22:03:03.373518Z",
     "start_time": "2021-01-25T22:03:03.328301Z"
    }
   },
   "outputs": [],
   "source": [
    "gpus = tf.config.experimental.list_physical_devices('GPU')\n",
    "tf.config.experimental.set_visible_devices(gpus[0], 'GPU')\n",
    "tf.config.experimental.set_memory_growth(gpus[0], True)"
   ]
  },
  {
   "cell_type": "code",
   "execution_count": null,
   "metadata": {
    "ExecuteTime": {
     "end_time": "2021-01-25T22:03:04.829181Z",
     "start_time": "2021-01-25T22:03:04.805968Z"
    }
   },
   "outputs": [],
   "source": [
    "# some parameters\n",
    "model_name = 'MNIST' # only MNIST is available\n",
    "n_routing = 3"
   ]
  },
  {
   "cell_type": "markdown",
   "metadata": {},
   "source": [
    "# 1.0 Import the Dataset"
   ]
  },
  {
   "cell_type": "code",
   "execution_count": null,
   "metadata": {
    "ExecuteTime": {
     "end_time": "2021-01-25T22:03:08.790666Z",
     "start_time": "2021-01-25T22:03:08.483172Z"
    }
   },
   "outputs": [],
   "source": [
    "dataset = Dataset(model_name, config_path='config.json') # only MNIST"
   ]
  },
  {
   "cell_type": "markdown",
   "metadata": {},
   "source": [
    "## 1.1 Visualize imported dataset"
   ]
  },
  {
   "cell_type": "code",
   "execution_count": null,
   "metadata": {
    "ExecuteTime": {
     "end_time": "2021-01-25T22:03:11.531218Z",
     "start_time": "2021-01-25T22:03:10.193090Z"
    }
   },
   "outputs": [],
   "source": [
    "n_images = 20 # number of images to be plotted\n",
    "plotImages(dataset.X_test[:n_images,...,0], dataset.y_test[:n_images], n_images, dataset.class_names)"
   ]
  },
  {
   "cell_type": "markdown",
   "metadata": {},
   "source": [
    "# 2.0 Load the Model"
   ]
  },
  {
   "cell_type": "code",
   "execution_count": null,
   "metadata": {
    "ExecuteTime": {
     "end_time": "2021-01-25T22:03:15.707231Z",
     "start_time": "2021-01-25T22:03:14.733048Z"
    }
   },
   "outputs": [],
   "source": [
    "model_test = CapsNet(model_name, mode='test', verbose=True, n_routing=n_routing)\n",
    "\n",
    "model_test.load_graph_weights() # load graph weights (bin folder)"
   ]
  },
  {
   "cell_type": "markdown",
   "metadata": {},
   "source": [
    "# 3.0 Test the Model"
   ]
  },
  {
   "cell_type": "code",
   "execution_count": null,
   "metadata": {
    "ExecuteTime": {
     "end_time": "2021-01-25T22:03:25.415576Z",
     "start_time": "2021-01-25T22:03:18.826201Z"
    }
   },
   "outputs": [],
   "source": [
    "model_test.evaluate(dataset.X_test, dataset.y_test) # if \"smallnorb\" use X_test_patch\n",
    "y_pred = model_test.predict(dataset.X_test)[0] # if \"smallnorb\" use X_test_patch"
   ]
  },
  {
   "cell_type": "markdown",
   "metadata": {},
   "source": [
    "## 3.1 Plot misclassified images"
   ]
  },
  {
   "cell_type": "code",
   "execution_count": null,
   "metadata": {
    "ExecuteTime": {
     "end_time": "2021-01-25T22:03:26.222073Z",
     "start_time": "2021-01-25T22:03:25.437213Z"
    }
   },
   "outputs": [],
   "source": [
    "n_images = 20\n",
    "plotWrongImages(dataset.X_test, dataset.y_test, y_pred, # if \"smallnorb\" use X_test_patch\n",
    "                n_images, dataset.class_names)"
   ]
  }
 ],
 "metadata": {
  "kernelspec": {
   "display_name": "Python 3",
   "language": "python",
   "name": "python3"
  },
  "language_info": {
   "codemirror_mode": {
    "name": "ipython",
    "version": 3
   },
   "file_extension": ".py",
   "mimetype": "text/x-python",
   "name": "python",
   "nbconvert_exporter": "python",
   "pygments_lexer": "ipython3",
   "version": "3.6.9"
  },
  "toc": {
   "base_numbering": 1,
   "nav_menu": {},
   "number_sections": false,
   "sideBar": true,
   "skip_h1_title": false,
   "title_cell": "Table of Contents",
   "title_sidebar": "Contents",
   "toc_cell": false,
   "toc_position": {},
   "toc_section_display": true,
   "toc_window_display": false
  },
  "varInspector": {
   "cols": {
    "lenName": 16,
    "lenType": 16,
    "lenVar": 40
   },
   "kernels_config": {
    "python": {
     "delete_cmd_postfix": "",
     "delete_cmd_prefix": "del ",
     "library": "var_list.py",
     "varRefreshCmd": "print(var_dic_list())"
    },
    "r": {
     "delete_cmd_postfix": ") ",
     "delete_cmd_prefix": "rm(",
     "library": "var_list.r",
     "varRefreshCmd": "cat(var_dic_list()) "
    }
   },
   "types_to_exclude": [
    "module",
    "function",
    "builtin_function_or_method",
    "instance",
    "_Feature"
   ],
   "window_display": false
  }
 },
 "nbformat": 4,
 "nbformat_minor": 4
}
