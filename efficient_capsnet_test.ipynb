{
 "cells": [
  {
   "cell_type": "markdown",
   "metadata": {},
   "source": [
    "# Efficient-CapsNet Model Test\n",
    "\n",
    "In this notebook we provide a simple interface to test the different trained Efficient-CapsNet models on the three datasets:\n",
    "\n",
    "- MNIST (MNIST)\n",
    "- smallNORB (SMALLNORB)\n",
    "- Multi-MNIST (MULTIMNIST)\n",
    "\n",
    "**NB**: remember to modify the \"config.json\" file with the appropriate parameters."
   ]
  },
  {
   "cell_type": "code",
   "execution_count": null,
   "metadata": {
    "ExecuteTime": {
     "end_time": "2021-02-16T08:57:31.782498Z",
     "start_time": "2021-02-16T08:57:31.762987Z"
    }
   },
   "outputs": [],
   "source": [
    "%load_ext autoreload\n",
    "%autoreload 2"
   ]
  },
  {
   "cell_type": "code",
   "execution_count": null,
   "metadata": {
    "ExecuteTime": {
     "end_time": "2021-02-16T08:57:33.233885Z",
     "start_time": "2021-02-16T08:57:31.936799Z"
    }
   },
   "outputs": [],
   "source": [
    "import tensorflow as tf\n",
    "from utils import Dataset, plotImages, plotWrongImages\n",
    "from models import EfficientCapsNet"
   ]
  },
  {
   "cell_type": "code",
   "execution_count": null,
   "metadata": {
    "ExecuteTime": {
     "end_time": "2021-02-16T08:57:33.321947Z",
     "start_time": "2021-02-16T08:57:33.270060Z"
    }
   },
   "outputs": [],
   "source": [
    "gpus = tf.config.experimental.list_physical_devices('GPU')\n",
    "tf.config.experimental.set_visible_devices(gpus[0], 'GPU')\n",
    "tf.config.experimental.set_memory_growth(gpus[0], True)"
   ]
  },
  {
   "cell_type": "code",
   "execution_count": null,
   "metadata": {
    "ExecuteTime": {
     "end_time": "2021-02-16T08:57:33.374047Z",
     "start_time": "2021-02-16T08:57:33.357993Z"
    }
   },
   "outputs": [],
   "source": [
    "# some parameters\n",
    "model_name = 'MNIST' \n",
    "custom_path = None # if you've trained a new model, insert here the full graph weights path"
   ]
  },
  {
   "cell_type": "markdown",
   "metadata": {},
   "source": [
    "# 1.0 Import the Dataset"
   ]
  },
  {
   "cell_type": "code",
   "execution_count": null,
   "metadata": {
    "ExecuteTime": {
     "end_time": "2021-02-16T08:58:45.850797Z",
     "start_time": "2021-02-16T08:58:45.458549Z"
    }
   },
   "outputs": [],
   "source": [
    "dataset = Dataset(model_name, config_path='config.json')"
   ]
  },
  {
   "cell_type": "markdown",
   "metadata": {},
   "source": [
    "## 1.1 Visualize imported dataset"
   ]
  },
  {
   "cell_type": "code",
   "execution_count": null,
   "metadata": {
    "ExecuteTime": {
     "end_time": "2021-02-16T08:58:48.500994Z",
     "start_time": "2021-02-16T08:58:47.175795Z"
    }
   },
   "outputs": [],
   "source": [
    "n_images = 20 # number of images to be plotted\n",
    "plotImages(dataset.X_test[:n_images,...,0], dataset.y_test[:n_images], n_images, dataset.class_names)"
   ]
  },
  {
   "cell_type": "markdown",
   "metadata": {},
   "source": [
    "# 2.0 Load the Model"
   ]
  },
  {
   "cell_type": "code",
   "execution_count": null,
   "metadata": {
    "ExecuteTime": {
     "end_time": "2021-02-16T08:58:48.778928Z",
     "start_time": "2021-02-16T08:58:48.538547Z"
    },
    "scrolled": false
   },
   "outputs": [],
   "source": [
    "model_test = EfficientCapsNet(model_name, mode='test', verbose=True, custom_path=custom_path)\n",
    "\n",
    "model_test.load_graph_weights() # load graph weights (bin folder)"
   ]
  },
  {
   "cell_type": "markdown",
   "metadata": {},
   "source": [
    "# 3.0 Test the Model"
   ]
  },
  {
   "cell_type": "code",
   "execution_count": null,
   "metadata": {
    "ExecuteTime": {
     "end_time": "2021-02-16T09:01:44.955356Z",
     "start_time": "2021-02-16T08:58:52.847947Z"
    },
    "scrolled": false
   },
   "outputs": [],
   "source": [
    "model_test.evaluate(dataset.X_test, dataset.y_test) # if \"smallnorb\" use X_test_patch"
   ]
  },
  {
   "cell_type": "markdown",
   "metadata": {},
   "source": [
    "## 3.1 Plot misclassified images"
   ]
  },
  {
   "cell_type": "code",
   "execution_count": null,
   "metadata": {
    "ExecuteTime": {
     "end_time": "2021-02-16T09:01:58.076066Z",
     "start_time": "2021-02-16T09:01:55.841686Z"
    }
   },
   "outputs": [],
   "source": [
    "#not working with MultiMNIST\n",
    "y_pred = model_test.predict(dataset.X_test)[0] # if \"smallnorb\" use X_test_patch\n",
    "\n",
    "n_images = 20\n",
    "plotWrongImages(dataset.X_test, dataset.y_test, y_pred, # if \"smallnorb\" use X_test_patch\n",
    "                n_images, dataset.class_names)"
   ]
  }
 ],
 "metadata": {
  "kernelspec": {
   "display_name": "Python 3",
   "language": "python",
   "name": "python3"
  },
  "language_info": {
   "codemirror_mode": {
    "name": "ipython",
    "version": 3
   },
   "file_extension": ".py",
   "mimetype": "text/x-python",
   "name": "python",
   "nbconvert_exporter": "python",
   "pygments_lexer": "ipython3",
   "version": "3.6.9"
  },
  "toc": {
   "base_numbering": 1,
   "nav_menu": {},
   "number_sections": false,
   "sideBar": true,
   "skip_h1_title": false,
   "title_cell": "Table of Contents",
   "title_sidebar": "Contents",
   "toc_cell": false,
   "toc_position": {},
   "toc_section_display": true,
   "toc_window_display": false
  },
  "varInspector": {
   "cols": {
    "lenName": 16,
    "lenType": 16,
    "lenVar": 40
   },
   "kernels_config": {
    "python": {
     "delete_cmd_postfix": "",
     "delete_cmd_prefix": "del ",
     "library": "var_list.py",
     "varRefreshCmd": "print(var_dic_list())"
    },
    "r": {
     "delete_cmd_postfix": ") ",
     "delete_cmd_prefix": "rm(",
     "library": "var_list.r",
     "varRefreshCmd": "cat(var_dic_list()) "
    }
   },
   "types_to_exclude": [
    "module",
    "function",
    "builtin_function_or_method",
    "instance",
    "_Feature"
   ],
   "window_display": false
  }
 },
 "nbformat": 4,
 "nbformat_minor": 4
}
